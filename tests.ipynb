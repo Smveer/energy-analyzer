{
 "cells": [
  {
   "cell_type": "code",
   "execution_count": 1,
   "id": "9f1be904",
   "metadata": {},
   "outputs": [],
   "source": [
    "from EnergyAnalyzer import EnergyAnalyzer\n",
    "from SessionBuilder import SessionBuilder"
   ]
  },
  {
   "cell_type": "code",
   "execution_count": 2,
   "id": "2b084283",
   "metadata": {},
   "outputs": [],
   "source": [
    "ss = SessionBuilder()\n",
    "\n",
    "fn = \"energy_data/test.csv\""
   ]
  },
  {
   "cell_type": "code",
   "execution_count": 3,
   "id": "ab34a79e",
   "metadata": {},
   "outputs": [
    {
     "name": "stderr",
     "output_type": "stream",
     "text": [
      "Setting default log level to \"WARN\".\n",
      "To adjust logging level use sc.setLogLevel(newLevel). For SparkR, use setLogLevel(newLevel).\n",
      "23/07/17 08:57:21 WARN NativeCodeLoader: Unable to load native-hadoop library for your platform... using builtin-java classes where applicable\n",
      "                                                                                \r"
     ]
    }
   ],
   "source": [
    "energy_analyzer = EnergyAnalyzer(\n",
    "        session=ss\n",
    ")\n",
    "energy_analyzer.load_data_from_csv(\n",
    "        file_name=fn\n",
    ")"
   ]
  },
  {
   "cell_type": "code",
   "execution_count": 4,
   "id": "3e57f1a5",
   "metadata": {},
   "outputs": [
    {
     "name": "stdout",
     "output_type": "stream",
     "text": [
      "True\n",
      "True\n"
     ]
    }
   ],
   "source": [
    "print(energy_analyzer.energy_data.columns == ['ID', 'Nom', 'Âge', 'Ville'])\n",
    "print(energy_analyzer.energy_data.columns != ['gdfID', 'Ndfgom', 'Âgge', 'Vigelle'])"
   ]
  },
  {
   "cell_type": "code",
   "execution_count": 5,
   "id": "41777730",
   "metadata": {},
   "outputs": [
    {
     "name": "stdout",
     "output_type": "stream",
     "text": [
      "+---+-------+---+--------+\n",
      "| ID|    Nom|Âge|   Ville|\n",
      "+---+-------+---+--------+\n",
      "|  1|  Alice| 25|   Paris|\n",
      "|  2|    Bob| 30| Londres|\n",
      "|  3|Charlie| 35|New York|\n",
      "|  4|  David| 28|  Berlin|\n",
      "|  5|  Emily| 32|   Tokyo|\n",
      "+---+-------+---+--------+\n",
      "\n"
     ]
    }
   ],
   "source": [
    "energy_analyzer.energy_data.show()"
   ]
  },
  {
   "cell_type": "code",
   "execution_count": 6,
   "id": "66996cc9",
   "metadata": {},
   "outputs": [
    {
     "name": "stdout",
     "output_type": "stream",
     "text": [
      "+-------+--------+\n",
      "|    Nom|   Ville|\n",
      "+-------+--------+\n",
      "|  Alice|   Paris|\n",
      "|    Bob| Londres|\n",
      "|Charlie|New York|\n",
      "|  David|  Berlin|\n",
      "|  Emily|   Tokyo|\n",
      "+-------+--------+\n",
      "\n"
     ]
    }
   ],
   "source": [
    "selected_df = energy_analyzer.energy_data.select('Nom', 'Ville')\n",
    "selected_df.show()"
   ]
  },
  {
   "cell_type": "code",
   "execution_count": 8,
   "id": "d65bf543",
   "metadata": {},
   "outputs": [
    {
     "name": "stdout",
     "output_type": "stream",
     "text": [
      "+---+-------+---+--------+\n",
      "| ID|    Nom|Âge|   Ville|\n",
      "+---+-------+---+--------+\n",
      "|  3|Charlie| 35|New York|\n",
      "|  5|  Emily| 32|   Tokyo|\n",
      "+---+-------+---+--------+\n",
      "\n"
     ]
    }
   ],
   "source": [
    "filtered_df = energy_analyzer.energy_data.filter(energy_analyzer.energy_data['Âge'] > 30)\n",
    "filtered_df.show()"
   ]
  },
  {
   "cell_type": "code",
   "execution_count": 9,
   "id": "f997ecf7",
   "metadata": {},
   "outputs": [
    {
     "name": "stdout",
     "output_type": "stream",
     "text": [
      "+--------+--------+\n",
      "|   Ville|avg(Âge)|\n",
      "+--------+--------+\n",
      "|  Berlin|    28.0|\n",
      "|   Tokyo|    32.0|\n",
      "|   Paris|    25.0|\n",
      "| Londres|    30.0|\n",
      "|New York|    35.0|\n",
      "+--------+--------+\n",
      "\n"
     ]
    }
   ],
   "source": [
    "grouped_df = energy_analyzer.energy_data.groupBy('Ville').agg({'Âge': 'avg'})\n",
    "grouped_df.show()"
   ]
  },
  {
   "cell_type": "code",
   "execution_count": 10,
   "id": "5390adb8",
   "metadata": {},
   "outputs": [
    {
     "name": "stdout",
     "output_type": "stream",
     "text": [
      "+---+-------+---+--------+\n",
      "| ID|    Nom|Âge|   Ville|\n",
      "+---+-------+---+--------+\n",
      "|  1|  Alice| 25|   Paris|\n",
      "|  4|  David| 28|  Berlin|\n",
      "|  2|    Bob| 30| Londres|\n",
      "|  5|  Emily| 32|   Tokyo|\n",
      "|  3|Charlie| 35|New York|\n",
      "+---+-------+---+--------+\n",
      "\n"
     ]
    }
   ],
   "source": [
    "sorted_df = energy_analyzer.energy_data.sort('Âge')\n",
    "sorted_df.show()"
   ]
  },
  {
   "cell_type": "code",
   "execution_count": 12,
   "id": "91c78430",
   "metadata": {},
   "outputs": [
    {
     "name": "stderr",
     "output_type": "stream",
     "text": [
      "                                                                                \r"
     ]
    },
    {
     "name": "stdout",
     "output_type": "stream",
     "text": [
      "+---+-----+---+-------+--------+\n",
      "| ID|  Nom|Âge|  Ville|     Job|\n",
      "+---+-----+---+-------+--------+\n",
      "|  1|Alice| 25|  Paris| Manager|\n",
      "|  2|  Bob| 30|Londres|Engineer|\n",
      "+---+-----+---+-------+--------+\n",
      "\n"
     ]
    }
   ],
   "source": [
    "other_df = ss.session.createDataFrame([(1, 'Manager'), (2, 'Engineer')], ['ID', 'Job'])\n",
    "joined_df = energy_analyzer.energy_data.join(other_df, on='ID', how='inner')\n",
    "joined_df.show()"
   ]
  },
  {
   "cell_type": "code",
   "execution_count": 13,
   "id": "e4b45890",
   "metadata": {},
   "outputs": [],
   "source": [
    "counter = joined_df.groupBy('Ville').count()"
   ]
  },
  {
   "cell_type": "code",
   "execution_count": 14,
   "id": "7a2c3f82",
   "metadata": {},
   "outputs": [],
   "source": [
    "ss.session.stop()"
   ]
  },
  {
   "cell_type": "code",
   "execution_count": null,
   "id": "95d3ce7b",
   "metadata": {},
   "outputs": [],
   "source": []
  }
 ],
 "metadata": {
  "kernelspec": {
   "display_name": "Python 3 (ipykernel)",
   "language": "python",
   "name": "python3"
  },
  "language_info": {
   "codemirror_mode": {
    "name": "ipython",
    "version": 3
   },
   "file_extension": ".py",
   "mimetype": "text/x-python",
   "name": "python",
   "nbconvert_exporter": "python",
   "pygments_lexer": "ipython3",
   "version": "3.10.7"
  }
 },
 "nbformat": 4,
 "nbformat_minor": 5
}
