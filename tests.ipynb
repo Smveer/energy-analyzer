{
 "cells": [
  {
   "cell_type": "code",
   "execution_count": null,
   "id": "9f1be904",
   "metadata": {},
   "outputs": [],
   "source": [
    "from EnergyAnalyzer import EnergyAnalyzer\n",
    "from SessionBuilder import SessionBuilder"
   ]
  },
  {
   "cell_type": "code",
   "execution_count": null,
   "id": "2b084283",
   "metadata": {},
   "outputs": [],
   "source": [
    "ss = SessionBuilder()\n",
    "\n",
    "fn = \"energy_data/test.csv\""
   ]
  },
  {
   "cell_type": "code",
   "execution_count": null,
   "id": "ab34a79e",
   "metadata": {},
   "outputs": [
    {
     "name": "stderr",
     "output_type": "stream",
     "text": [
      "Setting default log level to \"WARN\".\n",
      "To adjust logging level use sc.setLogLevel(newLevel). For SparkR, use setLogLevel(newLevel).\n",
      "23/07/17 07:00:34 WARN NativeCodeLoader: Unable to load native-hadoop library for your platform... using builtin-java classes where applicable\n",
      "23/07/17 07:00:37 WARN Utils: Service 'SparkUI' could not bind on port 4040. Attempting port 4041.\n",
      "                                                                                \r"
     ]
    }
   ],
   "source": [
    "energy_analyzer = EnergyAnalyzer(\n",
    "        session=ss\n",
    ")\n",
    "energy_analyzer.load_data_from_csv(\n",
    "        file_name=fn\n",
    ")"
   ]
  },
  {
   "cell_type": "code",
   "execution_count": null,
   "id": "3e57f1a5",
   "metadata": {},
   "outputs": [
    {
     "name": "stdout",
     "output_type": "stream",
     "text": [
      "True\n",
      "True\n"
     ]
    }
   ],
   "source": [
    "print(energy_analyzer.energy_data.columns == ['ID', 'Nom', 'Âge', 'Ville'])\n",
    "print(energy_analyzer.energy_data.columns != ['gdfID', 'Ndfgom', 'Âgge', 'Vigelle'])"
   ]
  },
  {
   "cell_type": "code",
   "execution_count": null,
   "id": "41777730",
   "metadata": {},
   "outputs": [],
   "source": []
  },
  {
   "cell_type": "code",
   "execution_count": null,
   "id": "91c78430",
   "metadata": {},
   "outputs": [],
   "source": []
  }
 ],
 "metadata": {
  "kernelspec": {
   "display_name": "Python 3 (ipykernel)",
   "language": "python",
   "name": "python3"
  },
  "language_info": {
   "codemirror_mode": {
    "name": "ipython",
    "version": 3
   },
   "file_extension": ".py",
   "mimetype": "text/x-python",
   "name": "python",
   "nbconvert_exporter": "python",
   "pygments_lexer": "ipython3",
   "version": "3.10.7"
  }
 },
 "nbformat": 4,
 "nbformat_minor": 5
}
